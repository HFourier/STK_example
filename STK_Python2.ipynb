{
 "cells": [
  {
   "cell_type": "code",
   "execution_count": 19,
   "id": "25d5ec1f",
   "metadata": {},
   "outputs": [],
   "source": [
    "from agi.stk12.stkdesktop import STKDesktop\n",
    "from agi.stk12.stkobjects import *\n",
    "from agi.stk12.stkutil import *\n",
    "from agi.stk12.vgt import *\n",
    "import os\n",
    "from tqdm import tqdm"
   ]
  },
  {
   "cell_type": "code",
   "execution_count": 3,
   "id": "aeaf3162",
   "metadata": {},
   "outputs": [],
   "source": [
    "# STK_PID = 12656  # 根据自己刚刚得到的PID\n",
    "# stk = STKDesktop.AttachToApplication(pid=int(STK_PID))\n",
    "stk = STKDesktop.StartApplication(visible=True) #using optional visible argument\n",
    "root = stk.Root"
   ]
  },
  {
   "cell_type": "code",
   "execution_count": 6,
   "id": "043783f8",
   "metadata": {},
   "outputs": [],
   "source": [
    "scenario  = root.NewScenario('20220923')  # 新建场景"
   ]
  },
  {
   "cell_type": "code",
   "execution_count": 4,
   "id": "23a755a9",
   "metadata": {},
   "outputs": [],
   "source": [
    "scenario = root.CurrentScenario # 链接当前场景 "
   ]
  },
  {
   "cell_type": "markdown",
   "id": "ac65857d",
   "metadata": {},
   "source": [
    "# 创建星座的种子星"
   ]
  },
  {
   "cell_type": "code",
   "execution_count": 7,
   "id": "3e2b3b4c",
   "metadata": {},
   "outputs": [],
   "source": [
    "# 创建星座 —— 种子卫星\n",
    "sat_seed = scenario.Children.New(AgESTKObjectType.eSatellite,'COL') # 种子卫星"
   ]
  },
  {
   "cell_type": "code",
   "execution_count": 8,
   "id": "30b5650c",
   "metadata": {},
   "outputs": [],
   "source": [
    "# 种子卫星属性\n",
    "sat_seed.SetPropagatorType(2) #  J4 摄动\n",
    "keplerian = sat_seed.Propagator.InitialState.Representation.ConvertTo(1)  # eOrbitStateClassical, Use the Classical Element interface\n",
    "keplerian.SizeShapeType = 0  # eSizeShapeAltitude, Changes from Ecc/Inc to Perigee/Apogee Altitude\n",
    "keplerian.LocationType = 5  # eLocationTrueAnomaly, Makes sure True Anomaly is being used\n",
    "keplerian.Orientation.AscNodeType = 0  # eAscNodeLAN, Use LAN instead of RAAN for data entry\n",
    "\n",
    "# Assign the perigee and apogee altitude values:\n",
    "keplerian.SizeShape.PerigeeAltitude = 600      # km 近地点 高度\n",
    "keplerian.SizeShape.ApogeeAltitude = 600       # km 远地点 高度\n",
    "\n",
    "# Assign the other desired orbital parameters:\n",
    "keplerian.Orientation.Inclination = 75         # deg 倾角 \n",
    "keplerian.Orientation.ArgOfPerigee = 0        # deg 近地点幅角度\n",
    "keplerian.Orientation.AscNode.Value = 0       # deg\n",
    "keplerian.Location.Value =  0              # deg 平近点角\n",
    "\n",
    "# Apply the changes made to the satellite's state and propagate:\n",
    "sat_seed.Propagator.InitialState.Representation.Assign(keplerian)\n",
    "sat_seed.Propagator.Propagate()"
   ]
  },
  {
   "cell_type": "markdown",
   "id": "52137720",
   "metadata": {},
   "source": [
    "# 添加传感器"
   ]
  },
  {
   "cell_type": "code",
   "execution_count": 9,
   "id": "344eec83",
   "metadata": {},
   "outputs": [],
   "source": [
    "# 添加传感器\n",
    "sensor = sat_seed.Children.New(AgESTKObjectType.eSensor,'Cam')"
   ]
  },
  {
   "cell_type": "code",
   "execution_count": 10,
   "id": "0c103a33",
   "metadata": {},
   "outputs": [],
   "source": [
    "# 传感器属性\n",
    "sensor.CommonTasks.SetPatternSimpleConic(40,1) # 半张角40°，角分辨率1°\n",
    "LOS = sensor.AccessConstraints.AddConstraint(34) # Range 类型\n",
    "# 对照 https://help.agi.com/stkdevkit/Content/DocX/STKObjects~Enumerations~AgEAccessConstraints_EN.html "
   ]
  },
  {
   "cell_type": "code",
   "execution_count": 11,
   "id": "d116bf6a",
   "metadata": {},
   "outputs": [],
   "source": [
    "# LOS = LOS.QueryInterface(STKObjects.IAgAccessCnstrMinMax)\n",
    "LOS.EnableMax = True\n",
    "LOS.Max = 1100"
   ]
  },
  {
   "cell_type": "code",
   "execution_count": 12,
   "id": "682267b8",
   "metadata": {},
   "outputs": [],
   "source": [
    "# 开始生成星座\n",
    "root.ExecuteCommand('Walker */Satellite/COL Type Delta NumPlanes 16 NumSatsPerPlane 10 InterPlanePhaseIncrement 1 ColorByPlane Yes');"
   ]
  },
  {
   "cell_type": "markdown",
   "id": "73d30237",
   "metadata": {},
   "source": [
    "# 创建网格"
   ]
  },
  {
   "cell_type": "code",
   "execution_count": 13,
   "id": "4ad3b8cf",
   "metadata": {},
   "outputs": [],
   "source": [
    "covdef_tmp = scenario.Children.New(AgESTKObjectType.eCoverageDefinition,'CovDef')"
   ]
  },
  {
   "cell_type": "code",
   "execution_count": 14,
   "id": "521f599f",
   "metadata": {},
   "outputs": [],
   "source": [
    "covdef_tmp.Grid.BoundsType = 6\n",
    "'''\n",
    "1 Global\n",
    "2 Latitude Bounds\n",
    "3 Latitude Line\n",
    "4 Longitude Line\n",
    "5 Custom Boundary\n",
    "6 LatLon Region\n",
    "'''\n",
    "covdef_tmp.Grid.Resolution.LatLon = 6\n",
    "covdef_tmp.PointDefinition.Altitude = 10 # 10 km\n",
    "\n",
    "all_list = covdef_tmp.AssetList.AvailableAssets\n",
    "sensor_list = []\n",
    "for e in range(len(all_list)):\n",
    "    if e%2 == 0:\n",
    "        pass\n",
    "    else:\n",
    "        sensor_list.append(all_list[e])"
   ]
  },
  {
   "cell_type": "markdown",
   "id": "59e69f7b",
   "metadata": {},
   "source": [
    "# 生成Walker星座"
   ]
  },
  {
   "cell_type": "code",
   "execution_count": 15,
   "id": "5b873c42",
   "metadata": {},
   "outputs": [],
   "source": [
    "sate_constellation = scenario.Children.New(AgESTKObjectType.eConstellation,'COL')"
   ]
  },
  {
   "cell_type": "code",
   "execution_count": 20,
   "id": "e6c035db",
   "metadata": {},
   "outputs": [
    {
     "name": "stderr",
     "output_type": "stream",
     "text": [
      "100%|███████████████████████████████████████████████████████████████████████████████| 322/322 [00:02<00:00, 139.54it/s]\n"
     ]
    }
   ],
   "source": [
    "for obj in tqdm(all_list):\n",
    "    sate_constellation.Objects.Add(obj)"
   ]
  },
  {
   "cell_type": "code",
   "execution_count": 21,
   "id": "65e6bf71",
   "metadata": {},
   "outputs": [],
   "source": [
    "for j in tqdm(sensor_list):\n",
    "    covdef_tmp.AssetList.Add(j)"
   ]
  },
  {
   "cell_type": "code",
   "execution_count": null,
   "id": "46e8af6a",
   "metadata": {},
   "outputs": [],
   "source": [
    "from tqdm import tqdm\n",
    "covdef_lits = []\n",
    "for i in tqdm(range(0,310,10)):\n",
    "    _string = 'CovDef' + str(i)\n",
    "    covdef = scenario.Children.New(AgESTKObjectType.eCoverageDefinition, _string)\n",
    "    covdef.Grid.BoundsType = 6\n",
    "    covdef.Grid.Resolution.LatLon = 6\n",
    "    covdef.PointDefinition.Altitude = i \n",
    "    for j in sensor_list:\n",
    "        covdef.AssetList.Add(j)\n",
    "    covdef_lits.append(covdef)"
   ]
  },
  {
   "cell_type": "markdown",
   "id": "9b1c2e82",
   "metadata": {},
   "source": []
  },
  {
   "cell_type": "markdown",
   "id": "f27bfb48",
   "metadata": {},
   "source": [
    "# 计算与绘图"
   ]
  },
  {
   "cell_type": "code",
   "execution_count": 22,
   "id": "6c8b43e8",
   "metadata": {},
   "outputs": [],
   "source": [
    "figmerit1 = covdef_tmp.Children.New(AgESTKObjectType.eFigureOfMerit,'revisittime');"
   ]
  },
  {
   "cell_type": "markdown",
   "id": "e6414f03",
   "metadata": {},
   "source": [
    "| 方法     | 变量值 | 描述|\n",
    "| ----------- | ----------- |----------- |\n",
    "|eFmAccessConstraint\t|0\t|Access Constraint Figure of Merit.|\n",
    "|eFmAccessDuration\t|1|\tAccess Duration Figure of Merit.|\n",
    "|eFmAccessSeparation|\t2|\tAccess Separation Figure of Merit.|\n",
    "|eFmCoverageTime|\t3\t|Coverage Time Figure of Merit.|\n",
    "|eFmDilutionOfPrecision|\t4\t|Dilution of Precision Figure of Merit.|\n",
    "|eFmNAssetCoverage|\t5\t|N Asset Coverage Figure of Merit.|\n",
    "|eFmNavigationAccuracy|\t6|\tNavigation Accuracy Figure of Merit.|\n",
    "|eFmNumberOfAccesses|\t7|\tNumber of Accesses Figure of Merit.|\n",
    "|eFmNumberOfGaps|\t8|\tNumber of Gaps Figure of Merit.|\n",
    "|eFmResponseTime|\t9\t|Response Time Figure of Merit.|\n",
    "|eFmRevisitTime\t|10|\tRevisit Time Figure of Merit.|\n",
    "|eFmSimpleCoverage|\t11|\tSimple Coverage Figure of Merit.|\n",
    "|eFmTimeAverageGap|\t12\t|Time Average Gap Figure of Merit.|\n",
    "|eFmSystemResponseTime|\t13|\tSystem Response Time Figure of Merit.|\n",
    "|eFmAgeOfData|\t14\t|Age of Data Figure of Merit.|\n",
    "|eFmScalarCalculation|\t15|\tScalar Calculation Figure of Merit.|\n",
    "|eFmSystemAgeOfData\t|16|\tSystem Age Of Data Figure of Merit.|"
   ]
  },
  {
   "cell_type": "code",
   "execution_count": 24,
   "id": "3295537f",
   "metadata": {},
   "outputs": [],
   "source": [
    "figmerit1.SetDefinitionType(1)  # eFmAccessDuration \n",
    "covdef_tmp.ComputeAccesses();"
   ]
  },
  {
   "cell_type": "code",
   "execution_count": 70,
   "id": "e1e5fa91",
   "metadata": {},
   "outputs": [],
   "source": [
    "pov = covdef_tmp.DataProviders.Item('Coverage by Latitude').Exec() # Coverage By Latitude"
   ]
  },
  {
   "cell_type": "code",
   "execution_count": 74,
   "id": "01f953eb",
   "metadata": {},
   "outputs": [],
   "source": [
    "# pov.DataSets.GetDataSetByName('Start Time').GetValues\n",
    "# pov.DataSets.GetDataSetByName('Percent')\n",
    "data_array = pov.DataSets.ToArray()"
   ]
  },
  {
   "cell_type": "code",
   "execution_count": 80,
   "id": "e7f7848e",
   "metadata": {},
   "outputs": [
    {
     "data": {
      "text/plain": [
       "[<matplotlib.lines.Line2D at 0x1c88f3315c8>]"
      ]
     },
     "execution_count": 80,
     "metadata": {},
     "output_type": "execute_result"
    },
    {
     "data": {
      "image/png": "[encoded data removed]",
      "text/plain": [
       "<Figure size 432x288 with 1 Axes>"
      ]
     },
     "metadata": {
      "needs_background": "light"
     },
     "output_type": "display_data"
    }
   ],
   "source": [
    "import numpy as np\n",
    "from matplotlib import pyplot as plt\n",
    "data_array = np.array(data_array)\n",
    "x = []\n",
    "y = []\n",
    "for ele in data_array:\n",
    "    x.append(ele[0])\n",
    "    y.append(ele[1])\n",
    "    pass\n",
    "\n",
    "plt.plot(x,y)"
   ]
  }
 ],
 "metadata": {
  "kernelspec": {
   "display_name": "Python 3",
   "language": "python",
   "name": "python3"
  },
  "language_info": {
   "codemirror_mode": {
    "name": "ipython",
    "version": 3
   },
   "file_extension": ".py",
   "mimetype": "text/x-python",
   "name": "python",
   "nbconvert_exporter": "python",
   "pygments_lexer": "ipython3",
   "version": "3.7.9"
  }
 },
 "nbformat": 4,
 "nbformat_minor": 5
}
